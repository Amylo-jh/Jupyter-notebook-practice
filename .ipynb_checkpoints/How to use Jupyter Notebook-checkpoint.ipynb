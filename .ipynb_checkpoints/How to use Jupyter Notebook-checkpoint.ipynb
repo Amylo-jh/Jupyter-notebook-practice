{
 "cells": [
  {
   "cell_type": "markdown",
   "id": "8e7f79c8",
   "metadata": {},
   "source": [
    "# Jupyter Notebook 단축키\n",
    "\n",
    "## Command Mode\n",
    "|단축키|설명|\n",
    "|--|--|\n",
    "|Enter|Edit Mode로 전환|\n",
    "|Y|Code로 전환|\n",
    "|M|Markdown로 전환|\n",
    "|D,D|셀 삭제|\n",
    "|X|셀 잘라내기|\n",
    "|V|셀 붙여넣기|\n",
    "|A|위에 셀 추라|\n",
    "|B|아래에 셀 추가|\n",
    "|H|단축키 도움말|\n",
    "\n",
    "## Edit Mode\n",
    "|단축키|설명|\n",
    "|--|--|\n",
    "|Esc|Command Mode로 전환|\n",
    "|Ctrl+Z|되돌리기|\n",
    "|Ctrl+Y|앞으로 되돌리기|\n",
    "|Tab|코드 완성 or 들여쓰기|\n",
    "\n",
    "## 코드\n",
    "Ctrl+Enter : 코드 실행  \n",
    "Shift+Enter : 코드 실행, 아래 셀이 없을 시 셀 추가  \n",
    "Alt+Enter : 코드 실행, 항상 아래에 셀 추가  \n",
    "\n",
    "Ctrl+S : 코드 저장 및 체크포인트 생성"
   ]
  },
  {
   "cell_type": "markdown",
   "id": "73aa8b8f",
   "metadata": {},
   "source": [
    "# Universally 함수\n",
    "## 단일 배열에 사용하는 함수\n",
    "\n",
    "|함수|설명|\n",
    "|--|--|\n",
    "|abs, fabs|각 원소의 절대값을 구한다. 복소수가 아닌 경우에는 fabs로 빠르게 연산가능.|\n",
    "|sqrt|제곱근을 계산. arr ** 0.5 와 동일|\n",
    "|square|제곱을 계산. arr ** 2 와 동일|\n",
    "|Exp|각 원소에 지수 ex 를 계산|\n",
    "|Log, log10, log2, logp|각각 자연로그, 로그10, 고르2, 로그(1+x)|\n",
    "|sign|각 원소의 부호를 계산|\n",
    "|ceil|각 원소의 소수자리 올림|\n",
    "|floor|각 원소의 소수자리 버림|\n",
    "|rint|각 원소의 소수자리 반올림, dtype 유지|\n",
    "|modp|원소의 몫과 나머지를 각각 배열로 반환|\n",
    "|isnan|각 원소가 숫자인지 아닌지, NaN 나타내는 불리언 배열|\n",
    "|isfinite, isinf|배열의 각 원소가 유한한지 무한한지 나타내는 불리언 배열|\n",
    "|cos, cosh, sin, sinh, tan, tanh|일반 삼각함수와 쌍곡삼각 함수|\n",
    "|logical_not|각 원소의 논리 부정(not)값 계산, -arr와 동일|\n",
    "\n",
    "## 서로 다른 배열 간에 사용하는 함수\n",
    "|함수|설명|\n",
    "|--|--|\n",
    "|add|두 배열에서 같은 위치의 원소끼리 덧셈|\n",
    "|subtract|첫번째 배열 원소 - 두번째 배열 원소|\n",
    "|multiply|배열의 원소끼리 곱셈|\n",
    "|divide|첫번째 배열의 원소에서 두번째 배열의 원소를 나눗셈|\n",
    "|power|첫번째 배열의 원소에 두번째 배열의 원소만큼 제곱|\n",
    "|maximum, fmax|두 원소 중 큰 값을 반환, fmax는 NaN 무시|\n",
    "|minimum, fmin|두 원소 중 작은 값 반환, fmin은 NaN 무시|\n",
    "|mod|첫번째 배열의 원소에 두번째 배열의 원소를 나눈 나머지|\n",
    "|greater, greater_equal, less, less_equal, equal, not_equal|두 원소 간의 >, >=, <. <=, ==, != 비교연산 결과를 불리언 배열로 반환|\n",
    "|logical_and, logical_or, logical_xor|각각 두 원소 간의 논리연산, &, \\|, ^ 을 반환.|\n"
   ]
  }
 ],
 "metadata": {
  "kernelspec": {
   "display_name": "Python 3 (ipykernel)",
   "language": "python",
   "name": "python3"
  },
  "language_info": {
   "codemirror_mode": {
    "name": "ipython",
    "version": 3
   },
   "file_extension": ".py",
   "mimetype": "text/x-python",
   "name": "python",
   "nbconvert_exporter": "python",
   "pygments_lexer": "ipython3",
   "version": "3.10.9"
  }
 },
 "nbformat": 4,
 "nbformat_minor": 5
}
