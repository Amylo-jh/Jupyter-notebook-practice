{
 "cells": [
  {
   "cell_type": "code",
   "execution_count": 3,
   "id": "ba338a69",
   "metadata": {},
   "outputs": [],
   "source": [
    "import numpy as np"
   ]
  },
  {
   "cell_type": "code",
   "execution_count": 4,
   "id": "c1abf916",
   "metadata": {},
   "outputs": [
    {
     "data": {
      "text/plain": [
       "[1, 2, 3, 4, 5]"
      ]
     },
     "execution_count": 4,
     "metadata": {},
     "output_type": "execute_result"
    }
   ],
   "source": [
    "list = [1,2,3,4,5]\n",
    "list"
   ]
  },
  {
   "cell_type": "code",
   "execution_count": 5,
   "id": "8bb67c8f",
   "metadata": {},
   "outputs": [
    {
     "data": {
      "text/plain": [
       "array([1, 2, 3, 4, 5])"
      ]
     },
     "execution_count": 5,
     "metadata": {},
     "output_type": "execute_result"
    }
   ],
   "source": [
    "arr = np.array(list)\n",
    "arr"
   ]
  },
  {
   "cell_type": "code",
   "execution_count": 6,
   "id": "b7e82190",
   "metadata": {},
   "outputs": [
    {
     "data": {
      "text/plain": [
       "array([[1, 2, 3],\n",
       "       [4, 5, 6]])"
      ]
     },
     "execution_count": 6,
     "metadata": {},
     "output_type": "execute_result"
    }
   ],
   "source": [
    "arr2 = np.array([[1,2,3],[4,5,6]])\n",
    "arr2"
   ]
  },
  {
   "cell_type": "code",
   "execution_count": 7,
   "id": "f714a073",
   "metadata": {},
   "outputs": [
    {
     "data": {
      "text/plain": [
       "(5,)"
      ]
     },
     "execution_count": 7,
     "metadata": {},
     "output_type": "execute_result"
    }
   ],
   "source": [
    "arr.shape"
   ]
  },
  {
   "cell_type": "code",
   "execution_count": 8,
   "id": "2a97c419",
   "metadata": {},
   "outputs": [
    {
     "data": {
      "text/plain": [
       "(2, 3)"
      ]
     },
     "execution_count": 8,
     "metadata": {},
     "output_type": "execute_result"
    }
   ],
   "source": [
    "arr2.shape"
   ]
  },
  {
   "cell_type": "code",
   "execution_count": 9,
   "id": "45b79a61",
   "metadata": {},
   "outputs": [
    {
     "name": "stdout",
     "output_type": "stream",
     "text": [
      "1\n"
     ]
    }
   ],
   "source": [
    "print(arr[0])"
   ]
  },
  {
   "cell_type": "code",
   "execution_count": 10,
   "id": "8a421772",
   "metadata": {},
   "outputs": [
    {
     "name": "stdout",
     "output_type": "stream",
     "text": [
      "6\n"
     ]
    }
   ],
   "source": [
    "print(arr2[1,2])"
   ]
  },
  {
   "cell_type": "code",
   "execution_count": 11,
   "id": "31ec25f6",
   "metadata": {},
   "outputs": [
    {
     "data": {
      "text/plain": [
       "array([0, 1, 2, 3, 4, 5, 6, 7, 8, 9])"
      ]
     },
     "execution_count": 11,
     "metadata": {},
     "output_type": "execute_result"
    }
   ],
   "source": [
    "arr1 = np.arange(10)\n",
    "arr1"
   ]
  },
  {
   "cell_type": "code",
   "execution_count": 12,
   "id": "26a47f20",
   "metadata": {},
   "outputs": [],
   "source": [
    "arr1[3:8] = 12"
   ]
  },
  {
   "cell_type": "code",
   "execution_count": 13,
   "id": "470fc664",
   "metadata": {},
   "outputs": [
    {
     "data": {
      "text/plain": [
       "array([ 0,  1,  2, 12, 12, 12, 12, 12,  8,  9])"
      ]
     },
     "execution_count": 13,
     "metadata": {},
     "output_type": "execute_result"
    }
   ],
   "source": [
    "arr1"
   ]
  },
  {
   "cell_type": "code",
   "execution_count": 14,
   "id": "fde4f3d1",
   "metadata": {},
   "outputs": [
    {
     "data": {
      "text/plain": [
       "array([[ 0,  1,  2,  3,  4,  5,  6,  7,  8,  9],\n",
       "       [10, 11, 12, 13, 14, 15, 16, 17, 18, 19],\n",
       "       [20, 21, 22, 23, 24, 25, 26, 27, 28, 29],\n",
       "       [30, 31, 32, 33, 34, 35, 36, 37, 38, 39],\n",
       "       [40, 41, 42, 43, 44, 45, 46, 47, 48, 49]])"
      ]
     },
     "execution_count": 14,
     "metadata": {},
     "output_type": "execute_result"
    }
   ],
   "source": [
    "arr6 = np.arange(50).reshape(5, 10)\n",
    "arr6"
   ]
  },
  {
   "cell_type": "code",
   "execution_count": 20,
   "id": "02d46085",
   "metadata": {},
   "outputs": [
    {
     "data": {
      "text/plain": [
       "array([[175.2, 180.3, 175. , 169.2, 185.2, 188. , 177.6, 178.2, 177. ,\n",
       "        179. ],\n",
       "       [ 65.6,  88. ,  79.2,  69.3,  55. ,  71.2,  73. ,  68.9,  74. ,\n",
       "         82. ]])"
      ]
     },
     "execution_count": 20,
     "metadata": {},
     "output_type": "execute_result"
    }
   ],
   "source": [
    "height_weight = np.loadtxt(\"height_weight.txt\", delimiter=\",\")\n",
    "height_weight"
   ]
  },
  {
   "cell_type": "code",
   "execution_count": 21,
   "id": "f0219a2c",
   "metadata": {},
   "outputs": [],
   "source": [
    "height = height_weight[0]\n",
    "weight = height_weight[1]"
   ]
  },
  {
   "cell_type": "code",
   "execution_count": 25,
   "id": "2830be1f",
   "metadata": {},
   "outputs": [
    {
     "data": {
      "text/plain": [
       "array([21.37153104, 27.07018468, 25.86122449, 24.20652885, 16.03543423,\n",
       "       20.14486193, 23.14392095, 21.69720651, 23.62028791, 25.59220998])"
      ]
     },
     "execution_count": 25,
     "metadata": {},
     "output_type": "execute_result"
    }
   ],
   "source": [
    "bmi = weight / (height/100)**2\n",
    "bmi"
   ]
  },
  {
   "cell_type": "code",
   "execution_count": 37,
   "id": "62c9ea2a",
   "metadata": {},
   "outputs": [
    {
     "data": {
      "text/plain": [
       "array([96, 73, 75, 96, 83, 53, 76, 90])"
      ]
     },
     "execution_count": 37,
     "metadata": {},
     "output_type": "execute_result"
    }
   ],
   "source": [
    "name_score = np.array(np.random.randint(50, 100, size=8))\n",
    "name_score"
   ]
  },
  {
   "cell_type": "code",
   "execution_count": 38,
   "id": "eeb9d66d",
   "metadata": {},
   "outputs": [
    {
     "data": {
      "text/plain": [
       "array([ True, False, False,  True,  True, False, False,  True])"
      ]
     },
     "execution_count": 38,
     "metadata": {},
     "output_type": "execute_result"
    }
   ],
   "source": [
    "name_score >= 80"
   ]
  },
  {
   "cell_type": "code",
   "execution_count": 39,
   "id": "2e0822f2",
   "metadata": {},
   "outputs": [
    {
     "data": {
      "text/plain": [
       "array([96, 96, 83, 90])"
      ]
     },
     "execution_count": 39,
     "metadata": {},
     "output_type": "execute_result"
    }
   ],
   "source": [
    "name_score[name_score>=80]"
   ]
  },
  {
   "cell_type": "code",
   "execution_count": null,
   "id": "fd2ab5b9",
   "metadata": {},
   "outputs": [],
   "source": []
  }
 ],
 "metadata": {
  "kernelspec": {
   "display_name": "Python 3 (ipykernel)",
   "language": "python",
   "name": "python3"
  },
  "language_info": {
   "codemirror_mode": {
    "name": "ipython",
    "version": 3
   },
   "file_extension": ".py",
   "mimetype": "text/x-python",
   "name": "python",
   "nbconvert_exporter": "python",
   "pygments_lexer": "ipython3",
   "version": "3.10.9"
  }
 },
 "nbformat": 4,
 "nbformat_minor": 5
}
