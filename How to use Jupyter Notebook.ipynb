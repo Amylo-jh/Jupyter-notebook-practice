{
 "cells": [
  {
   "cell_type": "markdown",
   "id": "8e7f79c8",
   "metadata": {},
   "source": [
    "# Jupyter Notebook 단축키\n",
    "\n",
    "## Command Mode\n",
    "|단축키|설명|\n",
    "|--|--|\n",
    "|Enter|Edit Mode로 전환|\n",
    "|Y|Code로 전환|\n",
    "|M|Markdown로 전환|\n",
    "|D,D|셀 삭제|\n",
    "|X|셀 잘라내기|\n",
    "|V|셀 붙여넣기|\n",
    "|A|위에 셀 추라|\n",
    "|B|아래에 셀 추가|\n",
    "|H|단축키 도움말|\n",
    "\n",
    "## Edit Mode\n",
    "|단축키|설명|\n",
    "|--|--|\n",
    "|Esc|Command Mode로 전환|\n",
    "|Ctrl+Z|되돌리기|\n",
    "|Ctrl+Y|앞으로 되돌리기|\n",
    "|Tab|코드 완성 or 들여쓰기|\n",
    "\n",
    "## 코드\n",
    "Ctrl+Enter : 코드 실행  \n",
    "Shift+Enter : 코드 실행, 아래 셀이 없을 시 셀 추가  \n",
    "Alt+Enter : 코드 실행, 항상 아래에 셀 추가  \n",
    "\n",
    "Ctrl+S : 코드 저장 및 체크포인트 생성"
   ]
  },
  {
   "cell_type": "code",
   "execution_count": null,
   "id": "1d0dd8eb",
   "metadata": {},
   "outputs": [],
   "source": [
    "3+5"
   ]
  }
 ],
 "metadata": {
  "kernelspec": {
   "display_name": "Python 3 (ipykernel)",
   "language": "python",
   "name": "python3"
  },
  "language_info": {
   "codemirror_mode": {
    "name": "ipython",
    "version": 3
   },
   "file_extension": ".py",
   "mimetype": "text/x-python",
   "name": "python",
   "nbconvert_exporter": "python",
   "pygments_lexer": "ipython3",
   "version": "3.10.9"
  }
 },
 "nbformat": 4,
 "nbformat_minor": 5
}
